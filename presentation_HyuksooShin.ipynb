{
 "cells": [
  {
   "cell_type": "markdown",
   "id": "a2382279",
   "metadata": {},
   "source": [
    "---\n",
    "title: \"Python Decorators\"\n",
    "author: \"Hyuksoo Shin\"\n",
    "format: \n",
    "  revealjs:\n",
    "    code-fold: false\n",
    "    theme: dark\n",
    "jupyter: python3\n",
    "\n",
    "---"
   ]
  },
  {
   "cell_type": "markdown",
   "id": "efce0941",
   "metadata": {},
   "source": [
    "## Decorators?\n",
    "\n",
    ":::: {.columns}\n",
    "\n",
    "::: {.column width=\"50%\"}\n",
    "![](./img/NLTK_code.png)\n",
    ":::\n",
    "\n",
    "::: {.column width=\"50%\"}\n",
    "\n",
    ". . .\n",
    "\n",
    "- In Python, functions are first class objects that can be **passed as arguments**\n",
    "\n",
    ". . .\n",
    "\n",
    "- Decorators **modify the behavior** of a function\n",
    "\n",
    ":::\n",
    "\n",
    "::::"
   ]
  },
  {
   "cell_type": "markdown",
   "id": "13c93ffa",
   "metadata": {},
   "source": [
    "## Creating Decorators\n",
    "<br />\n",
    "```{.python}\n",
    "def decorator_function(function):\n",
    "    def wrapper_function():\n",
    "        function()\n",
    "    return wrapper_function\n",
    "```\n",
    "<br />\n",
    "\n",
    ". . .\n",
    "\n",
    "- Create a function, which takes another function as an input.\n",
    "\n",
    ". . .\n",
    "\n",
    "- Nest a wrapper function inside the decorator function.\n",
    "\n",
    ". . .\n",
    "\n",
    "- The wrapper function will trigger the function passed into the decorator function.\n",
    "\n",
    ". . .\n",
    "\n",
    "- Return the wrapper function."
   ]
  },
  {
   "cell_type": "markdown",
   "id": "60c32589",
   "metadata": {},
   "source": [
    "## Example\n",
    "<br />\n",
    "```{.python}\n",
    "import time\n",
    "\n",
    "def tokenizer():\n",
    "    time.sleep(2)\n",
    "    print(\"I'm a tokenizer\")\n",
    "    \n",
    "def lemmatizer():\n",
    "    time.sleep(5)\n",
    "    print(\"I'm a lemmatizer\")\n",
    "```\n",
    "<br />\n",
    "We want to calculate the **execution time** of the functions.\n"
   ]
  },
  {
   "cell_type": "markdown",
   "id": "16e71a8e",
   "metadata": {},
   "source": [
    "## Example - Solution \\#1\n",
    "<br />\n",
    "```{.python code-line-numbers=\"1|4|7|8\"}\n",
    "import time\n",
    "\n",
    "def tokenizer():\n",
    "    begin = time.time()\n",
    "    time.sleep(2)\n",
    "    print(\"I'm a tokenizer\")\n",
    "    end = time.time()\n",
    "    print(f\"Execution time: {end-begin}\")\n",
    "    \n",
    "def lemmatizer():\n",
    "    time.sleep(5)\n",
    "    print(\"I'm a lemmatizer\")\n",
    "```"
   ]
  },
  {
   "cell_type": "markdown",
   "id": "b2702740",
   "metadata": {},
   "source": [
    "## Example - Solution \\#1\n",
    "<br />\n",
    "```{.python code-line-numbers=\"11,14,15\"}\n",
    "import time\n",
    "\n",
    "def tokenizer():\n",
    "    begin = time.time()\n",
    "    time.sleep(2)\n",
    "    print(\"I'm a tokenizer\")\n",
    "    end = time.time()\n",
    "    print(f\"Execution time: {end-begin}\")\n",
    "    \n",
    "def lemmatizer():\n",
    "    begin = time.time()\n",
    "    time.sleep(5)\n",
    "    print(\"I'm a lemmatizer\")\n",
    "    end = time.time()\n",
    "    print(f\"Execution time: {end-begin}\")\n",
    "```\n",
    "<br />\n",
    "\n",
    ". . .\n",
    "\n",
    "We want add some functionality to the functions!"
   ]
  },
  {
   "cell_type": "markdown",
   "id": "d7073f19",
   "metadata": {},
   "source": [
    "## Example - Solution \\#2 (Decorator)\n",
    "<br />\n",
    "```{.python}\n",
    "def calculate_exe_time(function):\n",
    "    def wrapper_function():\n",
    "        begin = time.time()\n",
    "        function()\n",
    "        end = time.time()\n",
    "        print(f\"Execution time: {end-begin}\")\n",
    "    return wrapper_function\n",
    "```\n"
   ]
  },
  {
   "cell_type": "markdown",
   "id": "3ad2c7e4",
   "metadata": {},
   "source": [
    "## Example - Solution \\#2 (Decorator)\n",
    "<br />"
   ]
  },
  {
   "cell_type": "code",
   "execution_count": 9,
   "id": "12384234",
   "metadata": {},
   "outputs": [],
   "source": [
    "def calculate_exe_time(function):\n",
    "    def wrapper_function():\n",
    "        begin = time.time()\n",
    "        function()\n",
    "        end = time.time()\n",
    "        print(f\"Execution time: {end-begin}\")\n",
    "    return wrapper_function"
   ]
  },
  {
   "cell_type": "code",
   "execution_count": 10,
   "id": "47a2cb1f",
   "metadata": {},
   "outputs": [
    {
     "name": "stdout",
     "output_type": "stream",
     "text": [
      "I'm a tokenizer\n",
      "Execution time: 2.002509832382202\n",
      "I'm a lemmatizer\n",
      "Execution time: 5.004250764846802\n"
     ]
    }
   ],
   "source": [
    "#| echo: true\n",
    "\n",
    "\n",
    "@calculate_exe_time\n",
    "def tokenizer():\n",
    "    time.sleep(2)\n",
    "    print(\"I'm a tokenizer\")\n",
    "\n",
    "@calculate_exe_time\n",
    "def lemmatizer():\n",
    "    time.sleep(5)\n",
    "    print(\"I'm a lemmatizer\")\n",
    "    \n",
    "tokenizer()\n",
    "lemmatizer()"
   ]
  },
  {
   "cell_type": "markdown",
   "id": "0e583565",
   "metadata": {},
   "source": [
    "## Conclusion\n",
    "<br />\n",
    "\n",
    "- Decorators wrap a function and give functionality (modify) its behavior.\n",
    "\n",
    "- Syntactic Sugar\n",
    "\n",
    "```{.python code-line-numbers=false}\n",
    "    @decorator_function\n",
    "\n",
    "    decorated_function = decorator_function(input_function)\n",
    "```\n"
   ]
  },
  {
   "cell_type": "markdown",
   "id": "89bea08f",
   "metadata": {},
   "source": [
    "## Next Step\n",
    "<br />\n",
    "\n",
    ":::: {.columns}\n",
    "\n",
    "::: {.column width=\"50%\"}\n",
    "\n",
    "![](./img/NLTK_code2.png){.r-stretch}\n",
    "\n",
    ":::\n",
    "\n",
    "::: {.column width=\"50%\"}\n",
    "\n",
    "- `ABC`(Abstract Base Classes)\n",
    "\n",
    "- `abstract method`\n",
    "\n",
    ":::\n",
    "::::"
   ]
  }
 ],
 "metadata": {
  "kernelspec": {
   "display_name": "Python 3 (ipykernel)",
   "language": "python",
   "name": "python3"
  },
  "language_info": {
   "codemirror_mode": {
    "name": "ipython",
    "version": 3
   },
   "file_extension": ".py",
   "mimetype": "text/x-python",
   "name": "python",
   "nbconvert_exporter": "python",
   "pygments_lexer": "ipython3",
   "version": "3.9.7"
  }
 },
 "nbformat": 4,
 "nbformat_minor": 5
}
